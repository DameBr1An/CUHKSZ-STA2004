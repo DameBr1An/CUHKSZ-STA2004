{
 "cells": [
  {
   "cell_type": "code",
   "execution_count": 1,
   "metadata": {},
   "outputs": [],
   "source": [
    "import numpy as np\n",
    "from scipy.stats import norm\n",
    "\n",
    "n = 100\n",
    "x = np.random.rand(n, 3)\n",
    "y = 1.0 + x[:,0] + 2*x[:,1] - 0*x[:,2] + norm.rvs(size=n)"
   ]
  },
  {
   "cell_type": "code",
   "execution_count": 2,
   "metadata": {},
   "outputs": [
    {
     "name": "stdout",
     "output_type": "stream",
     "text": [
      "The 95% CI for beta0 is: [0.4840894  2.01568654]\n",
      "The 95% CI for beta1 is: [-0.26096879  1.48735579]\n",
      "The 95% CI for beta2 is: [0.9486859  2.57695948]\n",
      "The 95% CI for beta3 is: [-0.68833389  0.85484193]\n"
     ]
    }
   ],
   "source": [
    "import statsmodels.api as sm\n",
    "\n",
    "X = sm.add_constant(x)\n",
    "model = sm.OLS(y, X).fit()\n",
    "\n",
    "conf_int = model.conf_int(alpha = 0.05)\n",
    "for i in range(4):\n",
    "    print('The 95%% CI for beta%d is:' % i , conf_int[i])"
   ]
  },
  {
   "cell_type": "code",
   "execution_count": 3,
   "metadata": {},
   "outputs": [
    {
     "name": "stdout",
     "output_type": "stream",
     "text": [
      "The SSE is 125.48533128079654\n",
      "The SSR is 25.9557570091013\n",
      "F-statistic: 6.618974630848736\n",
      "p-value: 1.8084977959631487e-11\n"
     ]
    }
   ],
   "source": [
    "SSE = np.sum(model.resid ** 2)\n",
    "SSR = np.sum((model.fittedvalues - np.mean(y)) ** 2)\n",
    "n = len(y)\n",
    "p = 3  # number of predictors\n",
    "F = (SSR / p) / (SSE / (n - p - 1))\n",
    "p_value = 1 - norm.cdf(F)\n",
    "print('The SSE is', SSE)\n",
    "print('The SSR is', SSR)\n",
    "print(\"F-statistic:\", F)\n",
    "print(\"p-value:\", p_value)"
   ]
  },
  {
   "cell_type": "code",
   "execution_count": 4,
   "metadata": {},
   "outputs": [
    {
     "name": "stdout",
     "output_type": "stream",
     "text": [
      "The number of simulations with p-values < 0.05 is around 51, which is close to 0.05*1000.\n",
      "The empirical type I error rate is 51/1000 = 0.051, which is close to the significance level of 0.05\n"
     ]
    }
   ],
   "source": [
    "n_sims = 1000\n",
    "n_rejections = 0\n",
    "for i in range(n_sims):\n",
    "    x = np.random.rand(n, 3)\n",
    "    y = 1.0 + x[:,0] + 2*x[:,1] - 0*x[:,2] + norm.rvs(size=n)\n",
    "    X = sm.add_constant(x)\n",
    "    model = sm.OLS(y, X).fit()\n",
    "    p_value = model.pvalues[3]\n",
    "    if p_value < 0.05:\n",
    "        n_rejections += 1\n",
    "\n",
    "print('The number of simulations with p-values < 0.05 is around %d, which is close to 0.05*1000.' % n_rejections)\n",
    "print('The empirical type I error rate is %d/1000 = %.3f, which is close to the significance level of 0.05' % (n_rejections, n_rejections/n_sims))"
   ]
  },
  {
   "cell_type": "code",
   "execution_count": 5,
   "metadata": {},
   "outputs": [
    {
     "name": "stdout",
     "output_type": "stream",
     "text": [
      "The predicted value for y0 is 1.8315038140904625\n",
      "The prediction interval for y0 is: [-0.409945, 4.072953]\n"
     ]
    }
   ],
   "source": [
    "# define x0\n",
    "x0 = np.array([1, 0.3, 0.2, 0.7])\n",
    "z = norm.ppf(0.975)\n",
    "y_pred = model.predict(x0)\n",
    "se_pred = np.sqrt(model.mse_resid + np.dot(x0, np.dot(model.cov_params(), x0.T)))\n",
    "PI_low = y_pred - z * se_pred\n",
    "PI_high = y_pred + z * se_pred\n",
    "print('The predicted value for y0 is', y_pred[0])\n",
    "print('The prediction interval for y0 is: [%f, %f]' % (PI_low,PI_high))"
   ]
  },
  {
   "cell_type": "code",
   "execution_count": 6,
   "metadata": {},
   "outputs": [
    {
     "name": "stdout",
     "output_type": "stream",
     "text": [
      "The width of 95% prediction intervals for y0 are: 3.967692, 3.947856 and 3.850112\n",
      "respectively for n = 200, 500 and 1000. The width does not approach to 0, but \n",
      "gradually be close to its limit of 3.969969.\n"
     ]
    }
   ],
   "source": [
    "sample_sizes = [200, 500, 1000]\n",
    "pred_int_widths = np.zeros(len(sample_sizes))\n",
    "width = []\n",
    "for i in range(len(sample_sizes)):\n",
    "    n = sample_sizes[i]\n",
    "    x = np.random.uniform(size=(n,3))\n",
    "    eps = norm.rvs(size=n)\n",
    "    y = 1.0 + x[:,0] + 2*x[:,1] - 0*x[:,2] + eps\n",
    "    \n",
    "    X = sm.add_constant(x)\n",
    "    model = sm.OLS(y,X).fit()\n",
    "\n",
    "    y_pred = model.predict(x0)\n",
    "    se_pred = np.sqrt(model.mse_resid + np.dot(x0, np.dot(model.cov_params(), x0.T)))\n",
    "    PI_low = y_pred - z * se_pred\n",
    "    PI_high = y_pred + z * se_pred\n",
    "    width.append(PI_high-PI_low)\n",
    "\n",
    "print('The width of 95%% prediction intervals for y0 are: %f, %f and %f\\n'% (width[0],width[1],width[2]) +\n",
    "        'respectively for n = 200, 500 and 1000. The width does not approach to 0, but \\n'+\n",
    "        'gradually be close to its limit of 3.969969.' )"
   ]
  },
  {
   "cell_type": "code",
   "execution_count": 7,
   "metadata": {},
   "outputs": [
    {
     "name": "stdout",
     "output_type": "stream",
     "text": [
      "                    sum_sq       df           F         PR(>F)\n",
      "weather_main  2.548512e+09      2.0  338.384375  3.994626e-146\n",
      "Residual      1.183486e+11  31428.0         NaN            NaN\n"
     ]
    }
   ],
   "source": [
    "import pandas as pd\n",
    "import statsmodels.api as sm\n",
    "from statsmodels.formula.api import ols\n",
    "\n",
    "traffic = pd.read_csv('traffic.csv')\n",
    "weather_types = ['Clouds', 'Clear', 'Snow']\n",
    "data = traffic[traffic['weather_main'].isin(weather_types)]\n",
    "\n",
    "model = ols('traffic_volume~weather_main',data=data).fit()\n",
    "anova_table = sm.stats.anova_lm(model, typ=2)\n",
    "\n",
    "SS_treatment = anova_table['sum_sq'][0]\n",
    "df_treatment = anova_table['df'][0]\n",
    "MS_treatment = SS_treatment/df_treatment\n",
    "SS_error = anova_table['sum_sq'][1]\n",
    "df_error = anova_table['df'][1]\n",
    "MS_error = SS_error/df_error\n",
    "SS_total = SS_treatment + SS_error\n",
    "df_total = df_treatment + df_error\n",
    "F = anova_table['F'][0]\n",
    "\n",
    "print(anova_table)"
   ]
  },
  {
   "cell_type": "code",
   "execution_count": 8,
   "metadata": {},
   "outputs": [
    {
     "data": {
      "text/html": [
       "<div>\n",
       "<style scoped>\n",
       "    .dataframe tbody tr th:only-of-type {\n",
       "        vertical-align: middle;\n",
       "    }\n",
       "\n",
       "    .dataframe tbody tr th {\n",
       "        vertical-align: top;\n",
       "    }\n",
       "\n",
       "    .dataframe thead th {\n",
       "        text-align: right;\n",
       "    }\n",
       "</style>\n",
       "<table border=\"1\" class=\"dataframe\">\n",
       "  <thead>\n",
       "    <tr style=\"text-align: right;\">\n",
       "      <th></th>\n",
       "      <th>None</th>\n",
       "      <th>SS</th>\n",
       "      <th>df</th>\n",
       "      <th>MS</th>\n",
       "      <th>F</th>\n",
       "    </tr>\n",
       "  </thead>\n",
       "  <tbody>\n",
       "    <tr>\n",
       "      <th>0</th>\n",
       "      <td>Treatment</td>\n",
       "      <td>2.548512e+09</td>\n",
       "      <td>2.0</td>\n",
       "      <td>1.274256e+09</td>\n",
       "      <td>338.384375</td>\n",
       "    </tr>\n",
       "    <tr>\n",
       "      <th>1</th>\n",
       "      <td>Error</td>\n",
       "      <td>1.183486e+11</td>\n",
       "      <td>31428.0</td>\n",
       "      <td>3.765705e+06</td>\n",
       "      <td>NaN</td>\n",
       "    </tr>\n",
       "    <tr>\n",
       "      <th>2</th>\n",
       "      <td>Total</td>\n",
       "      <td>1.208971e+11</td>\n",
       "      <td>31430.0</td>\n",
       "      <td>NaN</td>\n",
       "      <td>NaN</td>\n",
       "    </tr>\n",
       "  </tbody>\n",
       "</table>\n",
       "</div>"
      ],
      "text/plain": [
       "        None            SS       df            MS           F\n",
       "0  Treatment  2.548512e+09      2.0  1.274256e+09  338.384375\n",
       "1      Error  1.183486e+11  31428.0  3.765705e+06         NaN\n",
       "2      Total  1.208971e+11  31430.0           NaN         NaN"
      ]
     },
     "execution_count": 8,
     "metadata": {},
     "output_type": "execute_result"
    }
   ],
   "source": [
    "data = {None: ['Treatment', 'Error', 'Total'],\n",
    "        'SS': [SS_treatment, SS_error, SS_total],\n",
    "        'df': [df_treatment, df_error, df_total],\n",
    "        'MS': [MS_treatment, MS_error, None],\n",
    "        'F': [F, None, None]}\n",
    "df = pd.DataFrame(data)\n",
    "df      #Fill in the ANOVA table"
   ]
  },
  {
   "cell_type": "code",
   "execution_count": 9,
   "metadata": {},
   "outputs": [
    {
     "name": "stdout",
     "output_type": "stream",
     "text": [
      "(i) the degrees of freedom are (p-1, N-p). In this case, p-1 is (2) and N-p is (31428)\n",
      "\n",
      "(ii) The calculated F-statistic (338.38) is greater than the critical value (3.00).\n",
      "Therefore, we reject the NULL hypothesis.\n",
      "We conclude that the means under at least two of the three weather conditions are different.\n"
     ]
    },
    {
     "ename": "",
     "evalue": "",
     "output_type": "error",
     "traceback": [
      "\u001b[1;31m在当前单元格或上一个单元格中执行代码时 Kernel 崩溃。请查看单元格中的代码，以确定故障的可能原因。有关详细信息，请单击 <a href='https://aka.ms/vscodeJupyterKernelCrash'>此处</a>。有关更多详细信息，请查看 Jupyter <a href='command:jupyter.viewOutput'>log</a>。"
     ]
    }
   ],
   "source": [
    "import scipy.stats as stats\n",
    "# Perform the hypothesis test\n",
    "alpha = 0.05\n",
    "f_critical = stats.f.ppf(q = 1-alpha, dfn = df_treatment, dfd = df_error)\n",
    "print('(i) the degrees of freedom are (p-1, N-p). In this case, p-1 is (%d) and N-p is (%d)' % (df_treatment, df_error))\n",
    "if F > f_critical:\n",
    "    print(f'\\n(ii) The calculated F-statistic ({F:.2f}) is greater than the critical value ({f_critical:.2f}).')\n",
    "    print('Therefore, we reject the NULL hypothesis.')\n",
    "    print('We conclude that the means under at least two of the three weather conditions are different.')\n",
    "else:\n",
    "    print(f\"\\n(ii) The calculated F-statistic ({F:.2f}) is not greater than the critical value ({f_critical:.2f}).\")\n",
    "    print('Therefore, we fail to reject the NULL hypothesis')\n",
    "    print('We conclude that it is not enough to suggest the means are different.')"
   ]
  }
 ],
 "metadata": {
  "kernelspec": {
   "display_name": "Python 3",
   "language": "python",
   "name": "python3"
  },
  "language_info": {
   "codemirror_mode": {
    "name": "ipython",
    "version": 3
   },
   "file_extension": ".py",
   "mimetype": "text/x-python",
   "name": "python",
   "nbconvert_exporter": "python",
   "pygments_lexer": "ipython3",
   "version": "3.10.11"
  },
  "orig_nbformat": 4
 },
 "nbformat": 4,
 "nbformat_minor": 2
}
